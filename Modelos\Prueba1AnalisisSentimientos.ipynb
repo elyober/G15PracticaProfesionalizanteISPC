{
  "nbformat": 4,
  "nbformat_minor": 0,
  "metadata": {
    "colab": {
      "provenance": [],
      "authorship_tag": "ABX9TyNdK2ns66y/jTlX1wsnpOme",
      "include_colab_link": true
    },
    "kernelspec": {
      "name": "python3",
      "display_name": "Python 3"
    },
    "language_info": {
      "name": "python"
    }
  },
  "cells": [
    {
      "cell_type": "markdown",
      "metadata": {
        "id": "view-in-github",
        "colab_type": "text"
      },
      "source": [
        "<a href=\"https://colab.research.google.com/github/elyober/G15PracticaProfesionalizanteISPC/blob/main/Modelos%5CPrueba1AnalisisSentimientos.ipynb\" target=\"_parent\"><img src=\"https://colab.research.google.com/assets/colab-badge.svg\" alt=\"Open In Colab\"/></a>"
      ]
    },
    {
      "cell_type": "code",
      "execution_count": 2,
      "metadata": {
        "colab": {
          "base_uri": "https://localhost:8080/"
        },
        "id": "5fK-gF7qDxyn",
        "outputId": "63212cb9-6ab7-4f1c-d2a8-ebacebe112b8"
      },
      "outputs": [
        {
          "output_type": "stream",
          "name": "stdout",
          "text": [
            "Index(['2401', 'Borderlands', 'Positive',\n",
            "       'im getting on borderlands and i will murder you all ,'],\n",
            "      dtype='object')\n"
          ]
        }
      ],
      "source": [
        "import pandas as pd\n",
        "# Cargar los datasets extraidos de kaggle\n",
        "data = pd.read_csv(\"twitter_training.csv\")\n",
        "data2 = pd.read_csv(\"twitter_validation.csv\")\n",
        "print(data.columns)"
      ]
    },
    {
      "cell_type": "code",
      "source": [
        "\n",
        "from sklearn.model_selection import train_test_split\n",
        "from sklearn.feature_extraction.text import TfidfVectorizer\n",
        "from sklearn.naive_bayes import MultinomialNB\n",
        "from sklearn.metrics import accuracy_score, classification_report\n",
        "import numpy as np\n",
        "\n",
        "# Dividir los datos en conjuntos de entrenamiento y prueba\n",
        "# datos descargados de https://www.kaggle.com/datasets/jp797498e/twitter-entity-sentiment-analysis?select=twitter_training.csv\n",
        "\n",
        "# Si no se hace la cnversion values.astype('U') el modelo da un error.\n",
        "X = data['im getting on borderlands and i will murder you all ,'].values.astype('U')  # Columna que contiene el texto de las opiniones\n",
        "y = data['Positive']  # Columna que contiene las etiquetas de sentimiento\n",
        "\n",
        "X_train, X_test, y_train, y_test = train_test_split(X, y, test_size=0.2, random_state=42)\n",
        "\n",
        "# Crear un vectorizador TF-IDF para convertir el texto en características numéricas\n",
        "tfidf_vectorizer = TfidfVectorizer(max_features=5000)\n",
        "X_train_tfidf = tfidf_vectorizer.fit_transform(X_train)\n",
        "X_test_tfidf = tfidf_vectorizer.transform(X_test)\n",
        "\n",
        "# Entrenar un clasificador de Naive Bayes\n",
        "classifier = MultinomialNB()\n",
        "classifier.fit(X_train_tfidf, y_train)\n",
        "\n",
        "# Realizar predicciones en el conjunto de prueba\n",
        "y_pred = classifier.predict(X_test_tfidf)\n",
        "\n",
        "# Evaluar el rendimiento del modelo\n",
        "exactitud = accuracy_score(y_test, y_pred)\n",
        "print(f'Exactitud del modelo: {exactitud:.2f}')\n",
        "# Mostrar informe de clasificación\n",
        "print(classification_report(y_test, y_pred))\n",
        "#uso otro data set para probar su funcionamiento\n",
        "X2 = data2['I mentioned on Facebook that I was struggling for motivation to go for a run the other day, which has been translated by Tom’s great auntie as ‘Hayley can’t get out of bed’ and told to his grandma, who now thinks I’m a lazy, terrible person 🤣'].values.astype('U')\n",
        "X2_test=tfidf_vectorizer.transform(X2)\n",
        "y2_pred = classifier.predict(X2_test)\n",
        "total = dict()\n",
        "for sentimiento in y2_pred :\n",
        "  total[sentimiento]=total.get(sentimiento, 0)+1\n",
        "print(total, \"\\n\")\n",
        "total_sentimientos = sum(total.values())\n",
        "# Calcular el porcentaje de cada valor\n",
        "porcentajes = {clave: (valor / total_sentimientos) * 100 for clave, valor in total.items()}\n",
        "\n",
        "# Mostrar los porcentajes\n",
        "print(\"\\t\\t El público tiene de la marca una apreciación : \\n\")\n",
        "for clave, porcentaje in porcentajes.items():\n",
        "    print(f'\\t{clave}: {porcentaje:.2f}%')\n"
      ],
      "metadata": {
        "colab": {
          "base_uri": "https://localhost:8080/"
        },
        "id": "o8Vl9zfrH7sN",
        "outputId": "1b120be6-416a-415a-f6d4-ee926864d2da"
      },
      "execution_count": 6,
      "outputs": [
        {
          "output_type": "stream",
          "name": "stdout",
          "text": [
            "Exactitud del modelo: 0.64\n",
            "              precision    recall  f1-score   support\n",
            "\n",
            "  Irrelevant       0.73      0.32      0.44      2661\n",
            "    Negative       0.62      0.81      0.70      4471\n",
            "     Neutral       0.65      0.54      0.59      3551\n",
            "    Positive       0.62      0.74      0.68      4254\n",
            "\n",
            "    accuracy                           0.64     14937\n",
            "   macro avg       0.66      0.60      0.60     14937\n",
            "weighted avg       0.65      0.64      0.62     14937\n",
            "\n",
            "{'Neutral': 224, 'Negative': 343, 'Positive': 331, 'Irrelevant': 101} \n",
            "\n",
            "\t\t El público tiene de la marca una apreciación : \n",
            "\n",
            "\tNeutral: 22.42%\n",
            "\tNegative: 34.33%\n",
            "\tPositive: 33.13%\n",
            "\tIrrelevant: 10.11%\n"
          ]
        }
      ]
    }
  ]
}